{
 "cells": [
  {
   "cell_type": "markdown",
   "metadata": {},
   "source": [
    "Quirks (or possibly 'bugs') of the Hyppo Friedman Rafsky module\n",
    "---"
   ]
  },
  {
   "cell_type": "code",
   "execution_count": 6,
   "metadata": {},
   "outputs": [],
   "source": [
    "import numpy as np\n",
    "from numpy.random import default_rng\n",
    "from hyppo.independence import FriedmanRafsky\n",
    "\n",
    "seed = 402"
   ]
  },
  {
   "cell_type": "code",
   "execution_count": 7,
   "metadata": {},
   "outputs": [],
   "source": [
    "# Helper Methods\n",
    "\n",
    "# A helper method to format the input for the Friedman Rafsky test.\n",
    "def combine_then_label(x1, x2):\n",
    "    return_X = np.concatenate([x1, x2])\n",
    "\n",
    "    n1 = x1.shape[0]\n",
    "    n2 = x2.shape[0]\n",
    "\n",
    "    return_Y = np.repeat([1, 2], [n1, n2])\n",
    "\n",
    "    return return_X, return_Y\n",
    "\n",
    "# Helper method to run Friednman Rafsky and output the following\n",
    "# - pvalue\n",
    "# - corrected test statistics\n",
    "# - uncorrected test statistic\n",
    "def run_FR_simtest(x,y):\n",
    "    x,y = combine_then_label(x, y)\n",
    "    method = FriedmanRafsky()\n",
    "    test_rslt = method.test(x,y)\n",
    "    statistic_rslt = method.statistic(x,y) # uncorrected test statistic\n",
    "    print(f\"test method output: \\n\\tstatistic: {test_rslt[0]}\\n\\tpvalue: {test_rslt[1]}\")\n",
    "    print(f\"statisc method output: {statistic_rslt}\")"
   ]
  },
  {
   "cell_type": "markdown",
   "metadata": {},
   "source": [
    "From the description of the algorithm in [API Reference](https://hyppo.neurodata.io/api/generated/hyppo.independence.friedmanrafsky#friedmanrafsky), one would expect the following tests to return a statistic of $2$. However, the returned statistic is $20$"
   ]
  },
  {
   "cell_type": "code",
   "execution_count": 29,
   "metadata": {},
   "outputs": [
    {
     "name": "stdout",
     "output_type": "stream",
     "text": [
      "***Test 1***\n",
      "test method output: \n",
      "\tstatistic: 5.591740407994612\n",
      "\tpvalue: 0.000999000999000999\n",
      "statisc method output: 20\n",
      "\n",
      "***Test 2***\n",
      "test method output: \n",
      "\tstatistic: 6.031816868094657\n",
      "\tpvalue: 0.000999000999000999\n",
      "statisc method output: 20\n"
     ]
    }
   ],
   "source": [
    "shape_1 = (10, 2)\n",
    "\n",
    "print(\"***Test 1***\")\n",
    "ones = np.ones(shape_1) \n",
    "zeros = np.zeros(shape_1)\n",
    "run_FR_simtest(ones, zeros)\n",
    "\n",
    "print(\"\\n***Test 2***\")\n",
    "ones = np.ones(shape_1) \n",
    "hundreds = np.zeros(shape_1) + 100\n",
    "run_FR_simtest(ones, hundreds)"
   ]
  },
  {
   "cell_type": "markdown",
   "metadata": {},
   "source": [
    "# Distributions that FR throws an error for\n",
    "\n",
    "The following pairs of distributions surpsingly throw an errors\n",
    "1. `integers` and `integers`. e.g.,\n",
    "```\n",
    "    integers(200, 300, size=shape_1)\n",
    "    rng.integers(0, 100, size=shape_1)\n",
    "```\n",
    "2. `ones` and `ones`\n",
    " "
   ]
  },
  {
   "cell_type": "code",
   "execution_count": null,
   "metadata": {},
   "outputs": [],
   "source": [
    "rng = default_rng()\n",
    "\n",
    "x1 = rng.integers(200, 300, size=shape_1)\n",
    "x2 = rng.integers(0, 100, size=shape_1)\n",
    "\n",
    "run_FR_simtest(x1, x2)"
   ]
  },
  {
   "cell_type": "code",
   "execution_count": null,
   "metadata": {},
   "outputs": [],
   "source": []
  }
 ],
 "metadata": {
  "kernelspec": {
   "display_name": "Python 3.10.5 ('hyppo')",
   "language": "python",
   "name": "python3"
  },
  "language_info": {
   "codemirror_mode": {
    "name": "ipython",
    "version": 3
   },
   "file_extension": ".py",
   "mimetype": "text/x-python",
   "name": "python",
   "nbconvert_exporter": "python",
   "pygments_lexer": "ipython3",
   "version": "3.10.5"
  },
  "orig_nbformat": 4,
  "vscode": {
   "interpreter": {
    "hash": "63bbcf1d34cb36044fcd528dafbf1c36b480889c0537dfc828d5c44f0ab8faaf"
   }
  }
 },
 "nbformat": 4,
 "nbformat_minor": 2
}
