{
 "cells": [
  {
   "cell_type": "code",
   "execution_count": 30,
   "metadata": {},
   "outputs": [],
   "source": [
    "import numpy as np\n",
    "import math\n",
    "\n",
    "from hyppo.independence import Dcorr\n",
    "from sklearn.metrics import pairwise_distances\n"
   ]
  },
  {
   "cell_type": "code",
   "execution_count": 52,
   "metadata": {},
   "outputs": [
    {
     "data": {
      "text/plain": [
       "array([[ 12,  14,  27,  15],\n",
       "       [  4,  24,  63,  17],\n",
       "       [  8,  30, 108,  30],\n",
       "       [ 36,  17,  72,  43]])"
      ]
     },
     "execution_count": 52,
     "metadata": {},
     "output_type": "execute_result"
    }
   ],
   "source": [
    "x = np.array([  [1,2,3],\n",
    "                [3,4,1],\n",
    "                [8,4,2],\n",
    "                [8,0,9] ])\n",
    "\n",
    "y = np.array([  [0,0,4],\n",
    "                [1,5,1],\n",
    "                [9,9,0],\n",
    "                [2,2,3] ])\n",
    "\n",
    "np.matmul(x,y.transpose())"
   ]
  },
  {
   "cell_type": "code",
   "execution_count": null,
   "metadata": {},
   "outputs": [],
   "source": []
  },
  {
   "cell_type": "markdown",
   "metadata": {},
   "source": [
    "# Dcorr\n",
    "## step 1\n",
    "get distance matrix for each matrix"
   ]
  },
  {
   "cell_type": "code",
   "execution_count": 17,
   "metadata": {},
   "outputs": [],
   "source": [
    "y_samples, y_dims = y.shape\n",
    "x_samples, x_dims = x.shape\n",
    "n = x_samples"
   ]
  },
  {
   "cell_type": "markdown",
   "metadata": {},
   "source": [
    "$ D^x \\ and\\ D^y$"
   ]
  },
  {
   "cell_type": "code",
   "execution_count": 18,
   "metadata": {},
   "outputs": [],
   "source": [
    "def distance_matrix(arr):\n",
    "    n = arr.shape[0]\n",
    "    dims = arr.shape[1]\n",
    "    rtn_matrix = np.empty([n, n])\n",
    "\n",
    "    for i_1 in range(n):\n",
    "        for i_2 in range(n):\n",
    "            acc = 0\n",
    "            for j in range(dims):\n",
    "                acc += (arr[i_2,j]-arr[i_1,j]) * (arr[i_2,j]-arr[i_1,j])\n",
    "            rtn_matrix[i_1, i_2] = math.sqrt(acc)\n",
    "\n",
    "    return rtn_matrix\n",
    "\n",
    "Dx = distance_matrix(x)\n",
    "Dy = distance_matrix(y)"
   ]
  },
  {
   "cell_type": "code",
   "execution_count": 47,
   "metadata": {},
   "outputs": [
    {
     "data": {
      "text/plain": [
       "array([[ 0.75, -0.25, -0.25, -0.25],\n",
       "       [-0.25,  0.75, -0.25, -0.25],\n",
       "       [-0.25, -0.25,  0.75, -0.25],\n",
       "       [-0.25, -0.25, -0.25,  0.75]])"
      ]
     },
     "execution_count": 47,
     "metadata": {},
     "output_type": "execute_result"
    }
   ],
   "source": [
    "np.identity(n) - (1/n)*np.ones(n)"
   ]
  },
  {
   "cell_type": "code",
   "execution_count": 34,
   "metadata": {},
   "outputs": [
    {
     "data": {
      "text/plain": [
       "array([[ 0.        ,  5.91607978, 13.34166406,  3.        ],\n",
       "       [ 5.91607978,  0.        ,  9.        ,  3.74165739],\n",
       "       [13.34166406,  9.        ,  0.        , 10.34408043],\n",
       "       [ 3.        ,  3.74165739, 10.34408043,  0.        ]])"
      ]
     },
     "execution_count": 34,
     "metadata": {},
     "output_type": "execute_result"
    }
   ],
   "source": [
    "Dy"
   ]
  },
  {
   "cell_type": "code",
   "execution_count": 35,
   "metadata": {},
   "outputs": [
    {
     "data": {
      "text/plain": [
       "array([[ 0.        ,  5.91607978, 13.34166406,  3.        ],\n",
       "       [ 5.91607978,  0.        ,  9.        ,  3.74165739],\n",
       "       [13.34166406,  9.        ,  0.        , 10.34408043],\n",
       "       [ 3.        ,  3.74165739, 10.34408043,  0.        ]])"
      ]
     },
     "execution_count": 35,
     "metadata": {},
     "output_type": "execute_result"
    }
   ],
   "source": [
    "sk_Dy = pairwise_distances(y)\n",
    "sk_Dy"
   ]
  },
  {
   "cell_type": "markdown",
   "metadata": {},
   "source": [
    "$H$"
   ]
  },
  {
   "cell_type": "code",
   "execution_count": 19,
   "metadata": {},
   "outputs": [],
   "source": []
  },
  {
   "cell_type": "markdown",
   "metadata": {},
   "source": [
    "# $Dcov^b_n(x,y) = \\frac{1}{n^2}tr(D^xHD^yH)$"
   ]
  },
  {
   "cell_type": "code",
   "execution_count": 38,
   "metadata": {},
   "outputs": [],
   "source": [
    "def dist_to_cov(distx,disty):\n",
    "    H = np.identity(n) - np.ones((n,n))*(1/n)\n",
    "    trace_arg = np.matmul(distx, np.matmul(H, np.matmul(disty, H)))\n",
    "    return (1/(n*n)) * np.trace(trace_arg)"
   ]
  },
  {
   "cell_type": "code",
   "execution_count": 39,
   "metadata": {},
   "outputs": [],
   "source": [
    "Dcov_xy = dist_to_cov(Dx,Dy)\n",
    "Dcov_xx = dist_to_cov(Dx,Dx)\n",
    "Dcov_yy = dist_to_cov(Dy,Dy)"
   ]
  },
  {
   "cell_type": "code",
   "execution_count": 43,
   "metadata": {},
   "outputs": [
    {
     "data": {
      "text/plain": [
       "0.6588774749068576"
      ]
     },
     "execution_count": 43,
     "metadata": {},
     "output_type": "execute_result"
    }
   ],
   "source": [
    "Dcov_xy/(math.sqrt(Dcov_xx*Dcov_yy))"
   ]
  },
  {
   "cell_type": "code",
   "execution_count": 22,
   "metadata": {},
   "outputs": [],
   "source": [
    "stat, pvalue = Dcorr(bias=True).test(x,y)"
   ]
  },
  {
   "cell_type": "code",
   "execution_count": 23,
   "metadata": {},
   "outputs": [
    {
     "name": "stdout",
     "output_type": "stream",
     "text": [
      "0.6588774749068574\n"
     ]
    }
   ],
   "source": [
    "print(stat)"
   ]
  },
  {
   "cell_type": "code",
   "execution_count": 26,
   "metadata": {},
   "outputs": [],
   "source": [
    "stat, pvalue = Dcorr(bias=False).test(x,y)"
   ]
  },
  {
   "cell_type": "code",
   "execution_count": 27,
   "metadata": {},
   "outputs": [
    {
     "name": "stdout",
     "output_type": "stream",
     "text": [
      "0.15609089851929792\n"
     ]
    }
   ],
   "source": [
    "print(stat)"
   ]
  },
  {
   "cell_type": "code",
   "execution_count": 28,
   "metadata": {},
   "outputs": [
    {
     "data": {
      "text/plain": [
       "0.10609906664995314"
      ]
     },
     "execution_count": 28,
     "metadata": {},
     "output_type": "execute_result"
    }
   ],
   "source": [
    "1/Dcov"
   ]
  },
  {
   "cell_type": "code",
   "execution_count": null,
   "metadata": {},
   "outputs": [],
   "source": []
  }
 ],
 "metadata": {
  "interpreter": {
   "hash": "ac59ebe37160ed0dfa835113d9b8498d9f09ceb179beaac4002f036b9467c963"
  },
  "kernelspec": {
   "display_name": "Python 3.9.7 64-bit",
   "language": "python",
   "name": "python3"
  },
  "language_info": {
   "codemirror_mode": {
    "name": "ipython",
    "version": 3
   },
   "file_extension": ".py",
   "mimetype": "text/x-python",
   "name": "python",
   "nbconvert_exporter": "python",
   "pygments_lexer": "ipython3",
   "version": "3.9.7"
  },
  "orig_nbformat": 4
 },
 "nbformat": 4,
 "nbformat_minor": 2
}
