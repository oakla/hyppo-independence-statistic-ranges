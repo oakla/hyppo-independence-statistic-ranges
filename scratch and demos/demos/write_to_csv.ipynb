{
 "cells": [
  {
   "cell_type": "code",
   "execution_count": 1,
   "metadata": {},
   "outputs": [],
   "source": [
    "import csv"
   ]
  },
  {
   "cell_type": "code",
   "execution_count": 9,
   "metadata": {},
   "outputs": [],
   "source": [
    "output = './output_folder/output.csv'\n",
    "field_names = [\n",
    "    \"test_rslts_statistic\", \n",
    "    \"test_rslts_pvalue\", \n",
    "    \"statistic_rslts\",\n",
    "    \"independence_excepted_list\", \n",
    "    \"dataset_1_info_list\",  # (type, parameters,seed)\"\n",
    "    \"dataset_2_info_list\"   # (type, parameters,seed)\"\n",
    "]\n",
    "# with open(output, 'w') as csv_file:"
   ]
  },
  {
   "cell_type": "code",
   "execution_count": 10,
   "metadata": {},
   "outputs": [],
   "source": [
    "import csv\n",
    "\n",
    "with open(output, mode='w') as out_file:\n",
    "    csv_writer = csv.writer(out_file, delimiter=',', quotechar='\"', quoting=csv.QUOTE_MINIMAL)\n",
    "    csv_writer.writerow(field_names)\n",
    "\n"
   ]
  },
  {
   "cell_type": "code",
   "execution_count": 18,
   "metadata": {},
   "outputs": [],
   "source": [
    "\n",
    "row = [str(x) for x in [1,2,3,True,{\"method\":\"uniform\", \"parameters\": {\"low\": 0, \"high\": 1000, \"size\": (2,10)}, \"seed\":1}]]\n",
    "\n",
    "row_1 = [1,2,3,True,{\"method\":\"uniform\", \"parameters\": {\"low\": 0, \"high\": 1000, \"size\": (2,10)}, \"seed\":1}]\n",
    "\n",
    "\n",
    "with open(output, 'a') as out_file:\n",
    "    writer = csv.writer(out_file, delimiter=',', quotechar='\"', quoting=csv.QUOTE_MINIMAL)\n",
    "    \n",
    "    writer.writerow(row_1)\n",
    "\n",
    "    \n"
   ]
  },
  {
   "cell_type": "code",
   "execution_count": 17,
   "metadata": {},
   "outputs": [
    {
     "name": "stdout",
     "output_type": "stream",
     "text": [
      "   test_rslts_statistic  test_rslts_pvalue  statistic_rslts  \\\n",
      "0                     1                  2                3   \n",
      "1                     1                  2                3   \n",
      "\n",
      "   independence_excepted_list  \\\n",
      "0                        True   \n",
      "1                        True   \n",
      "\n",
      "                                 dataset_1_info_list  dataset_2_info_list  \n",
      "0  ('uniform', {'low': 0, 'high': 1000, 'size': (...                  NaN  \n",
      "1  {'method': 'uniform', 'parameters': {'low': 0,...                  NaN  \n",
      "test_rslts_statistic                                                          1\n",
      "test_rslts_pvalue                                                             2\n",
      "statistic_rslts                                                               3\n",
      "independence_excepted_list                                                 True\n",
      "dataset_1_info_list           ('uniform', {'low': 0, 'high': 1000, 'size': (...\n",
      "dataset_2_info_list                                                         NaN\n",
      "Name: 0, dtype: object\n"
     ]
    }
   ],
   "source": [
    "import pandas\n",
    "df = pandas.read_csv(output)\n",
    "print(df)\n",
    "\n",
    "print(df.iloc[0])\n"
   ]
  },
  {
   "cell_type": "code",
   "execution_count": null,
   "metadata": {},
   "outputs": [],
   "source": []
  }
 ],
 "metadata": {
  "kernelspec": {
   "display_name": "Python 3.10.5 ('hyppo')",
   "language": "python",
   "name": "python3"
  },
  "language_info": {
   "codemirror_mode": {
    "name": "ipython",
    "version": 3
   },
   "file_extension": ".py",
   "mimetype": "text/x-python",
   "name": "python",
   "nbconvert_exporter": "python",
   "pygments_lexer": "ipython3",
   "version": "3.10.5"
  },
  "orig_nbformat": 4,
  "vscode": {
   "interpreter": {
    "hash": "63bbcf1d34cb36044fcd528dafbf1c36b480889c0537dfc828d5c44f0ab8faaf"
   }
  }
 },
 "nbformat": 4,
 "nbformat_minor": 2
}
