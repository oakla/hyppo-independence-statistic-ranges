{
 "cells": [
  {
   "cell_type": "code",
   "execution_count": 1,
   "metadata": {},
   "outputs": [],
   "source": [
    "import numpy as np\n",
    "from numpy.random import Generator, PCG64\n",
    "from hyppo.independence import FriedmanRafsky\n",
    "\n",
    "seed = 402"
   ]
  },
  {
   "cell_type": "markdown",
   "metadata": {},
   "source": [
    "A helper method to format the input for the Friedman Rafsky test."
   ]
  },
  {
   "cell_type": "code",
   "execution_count": 2,
   "metadata": {},
   "outputs": [],
   "source": [
    "def combine_then_label(x1, x2):\n",
    "    return_X = np.concatenate([x1, x2])\n",
    "\n",
    "    n1 = x1.shape[0]\n",
    "    n2 = x2.shape[0]\n",
    "\n",
    "    return_Y = np.repeat([1, 2], [n1, n2])\n",
    "\n",
    "    return return_X, return_Y\n"
   ]
  },
  {
   "cell_type": "markdown",
   "metadata": {},
   "source": [
    "Create a pair of datasets, both from the same uniform distribution"
   ]
  },
  {
   "cell_type": "code",
   "execution_count": 3,
   "metadata": {},
   "outputs": [],
   "source": [
    "rng = Generator(PCG64(seed))\n",
    "\n",
    "N_SAMPLES = 4\n",
    "N_DIMS = 2\n",
    "range_min, range_max = 0, 100\n",
    "\n",
    "uniorm_pair_same_size = (\n",
    "    rng.uniform(range_min, range_max, (N_SAMPLES, N_DIMS)),\n",
    "    rng.uniform(range_min, range_max, (N_SAMPLES, N_DIMS))\n",
    ")\n",
    "\n",
    "x, y = combine_then_label(*uniorm_pair_same_size)\n"
   ]
  },
  {
   "cell_type": "markdown",
   "metadata": {},
   "source": [
    "Run them throught the FR test"
   ]
  },
  {
   "cell_type": "code",
   "execution_count": 4,
   "metadata": {},
   "outputs": [
    {
     "name": "stdout",
     "output_type": "stream",
     "text": [
      "***According to `test()` method***\n",
      "pvalue:\t0.37462537462537465\n",
      "stat:\t0.745579861773754\n",
      "\n",
      "***According to `statistic()` method***\n",
      "stat:\t6\n",
      "\n"
     ]
    }
   ],
   "source": [
    "test_method = FriedmanRafsky()\n",
    "rslt1 = test_method.test(x, y)\n",
    "\n",
    "print(\n",
    "    f\"***According to `test()` method***\\npvalue:\\t{rslt1.pvalue}\\nstat:\\t{rslt1.stat}\\n\"\n",
    ")\n",
    "\n",
    "rslt1 = test_method.statistic(x, y)\n",
    "print(\n",
    "    f\"***According to `statistic()` method***\\nstat:\\t{rslt1}\\n\"\n",
    ")\n"
   ]
  },
  {
   "cell_type": "code",
   "execution_count": null,
   "metadata": {},
   "outputs": [],
   "source": []
  },
  {
   "cell_type": "markdown",
   "metadata": {},
   "source": [
    "Let's try with different size datasets"
   ]
  },
  {
   "cell_type": "code",
   "execution_count": 5,
   "metadata": {},
   "outputs": [
    {
     "name": "stdout",
     "output_type": "stream",
     "text": [
      "***According to `test()` method***\n",
      "pvalue:\t0.12487512487512488\n",
      "stat:\t1.5268127144616541\n",
      "\n",
      "***According to `statistic()` method***\n",
      "stat:\t8\n",
      "\n"
     ]
    }
   ],
   "source": [
    "rng = Generator(PCG64(seed))\n",
    "\n",
    "N_SAMPLES = 4\n",
    "N_DIMS = 2\n",
    "range_min, range_max = 0, 100\n",
    "\n",
    "uniorm_pair_same_size = (\n",
    "    rng.uniform(range_min, range_max, (N_SAMPLES, N_DIMS)),\n",
    "    rng.uniform(range_min, range_max, (N_SAMPLES+2, N_DIMS))\n",
    ")\n",
    "\n",
    "x, y = combine_then_label(*uniorm_pair_same_size)\n",
    "\n",
    "test_method = FriedmanRafsky()\n",
    "rslt2 = test_method.test(x, y)\n",
    "\n",
    "print(\n",
    "    f\"***According to `test()` method***\\npvalue:\\t{rslt2.pvalue}\\nstat:\\t{rslt2.stat}\\n\"\n",
    ")\n",
    "\n",
    "rslt2 = test_method.statistic(x, y)\n",
    "print(\n",
    "    f\"***According to `statistic()` method***\\nstat:\\t{rslt2}\\n\"\n",
    ")\n"
   ]
  }
 ],
 "metadata": {
  "kernelspec": {
   "display_name": "Python 3.10.5 ('hyppo')",
   "language": "python",
   "name": "python3"
  },
  "language_info": {
   "codemirror_mode": {
    "name": "ipython",
    "version": 3
   },
   "file_extension": ".py",
   "mimetype": "text/x-python",
   "name": "python",
   "nbconvert_exporter": "python",
   "pygments_lexer": "ipython3",
   "version": "3.10.5"
  },
  "orig_nbformat": 4,
  "vscode": {
   "interpreter": {
    "hash": "63bbcf1d34cb36044fcd528dafbf1c36b480889c0537dfc828d5c44f0ab8faaf"
   }
  }
 },
 "nbformat": 4,
 "nbformat_minor": 2
}
