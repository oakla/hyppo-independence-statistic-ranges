{
 "cells": [
  {
   "cell_type": "code",
   "execution_count": 25,
   "metadata": {},
   "outputs": [],
   "source": [
    "import numpy as np\n",
    "from numpy.random import default_rng"
   ]
  },
  {
   "cell_type": "code",
   "execution_count": null,
   "metadata": {},
   "outputs": [],
   "source": [
    "shape = (10, 2)\n",
    "mean = [0, 0]\n",
    "cov = [[1, 0], [0, 100]]\n",
    "\n",
    "np_method_names = [\n",
    "    (\"zeros\", {\"shape\": shape, \"dtype\": np.int8}),\n",
    "    (\"ones\", {\"shape\": shape, \"dtype\": np.int8})\n",
    "]\n",
    "\n",
    "rng_method_names = [\n",
    "    (\"integers\", {\"low\": 0, \"high\": 1000, \"size\": shape}),\n",
    "    (\"uniform\", {\"low\": -1000, \"high\": 1000, \"size\": shape}),\n",
    "    (\"multivariate_normal\", {\"mean\": mean, \"cov\": cov, \"size\": shape[0]})\n",
    "]\n",
    "\n",
    "base_datasets = []\n",
    "\n",
    "for method, params in np_method_names:\n",
    "    dataset = getattr(np, method)(**params)\n",
    "    base_datasets.append((method,dataset,params))\n",
    "    # print(method + \" with \" + str(params))\n",
    "    # print(dataset)\n",
    "for method, params in rng_method_names:\n",
    "    dataset = getattr(default_rng(), method)(**params)\n",
    "    base_datasets.append((method,dataset,params))\n",
    "    print(method + \"() with \" + str(params))\n",
    "    print(dataset)"
   ]
  },
  {
   "cell_type": "code",
   "execution_count": 4,
   "metadata": {},
   "outputs": [
    {
     "data": {
      "text/plain": [
       "array([[  0.33657533,  19.6408844 ],\n",
       "       [  1.05111424,  -0.14315769],\n",
       "       [  0.15439204,   5.8989747 ],\n",
       "       [ -0.32791368,  -1.25985316],\n",
       "       [  0.23413358, -14.65936867],\n",
       "       [  0.97836906,  10.06892804],\n",
       "       [ -0.93207424,  -6.61348336],\n",
       "       [ -0.26857051,  -4.44941466],\n",
       "       [  2.11039504,  -5.09518699],\n",
       "       [  0.55598294,  -7.00155882]])"
      ]
     },
     "execution_count": 4,
     "metadata": {},
     "output_type": "execute_result"
    }
   ],
   "source": [
    "# an array of zeros\n",
    "shape = (10, 2)\n",
    "zeros = np.zeros(shape, dtype=np.int8)\n",
    "\n",
    "# an array of ones\n",
    "ones = np.ones(shape, dtype=np.int8)\n",
    "\n",
    "# an array of random ints\n",
    "# from numpy.random import default_rng\n",
    "rng = default_rng(1)\n",
    "ints = rng.integers(1000, size=shape) # default dtype is np.int64\n",
    "\n",
    "# Uniform\n",
    "# Similar to `rng.random` except \n",
    "# - only does floats\n",
    "# - can have a custom range\n",
    "floats = rng.uniform(-1000, 1000, shape)\n",
    "\n",
    "# multivariate normal\n",
    "mean = [0,0]\n",
    "cov = [[1, 0],[0, 100]]\n",
    "rng.multivariate_normal(mean, cov, 10)"
   ]
  }
 ],
 "metadata": {
  "kernelspec": {
   "display_name": "Python 3.10.5 ('hyppo')",
   "language": "python",
   "name": "python3"
  },
  "language_info": {
   "codemirror_mode": {
    "name": "ipython",
    "version": 3
   },
   "file_extension": ".py",
   "mimetype": "text/x-python",
   "name": "python",
   "nbconvert_exporter": "python",
   "pygments_lexer": "ipython3",
   "version": "3.10.5"
  },
  "orig_nbformat": 4,
  "vscode": {
   "interpreter": {
    "hash": "63bbcf1d34cb36044fcd528dafbf1c36b480889c0537dfc828d5c44f0ab8faaf"
   }
  }
 },
 "nbformat": 4,
 "nbformat_minor": 2
}
