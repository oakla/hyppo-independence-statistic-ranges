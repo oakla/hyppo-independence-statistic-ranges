{
 "cells": [
  {
   "cell_type": "code",
   "execution_count": 23,
   "metadata": {},
   "outputs": [],
   "source": [
    "import numpy as np\n",
    "import pandas as pd\n",
    "from hyppo.independence import FriedmanRafsky\n",
    "from numpy.random import default_rng"
   ]
  },
  {
   "cell_type": "code",
   "execution_count": null,
   "metadata": {},
   "outputs": [],
   "source": [
    "test_rslts_statistic = []\n",
    "test_rslts_pvalue = []\n",
    "statistic_rslts =[]\n",
    "independence_excepted_list = []\n",
    "dataset_1_info_list = [] # (type, parameters,seed)\"\n",
    "dataset_2_info_list = [] # (type, parameters,seed)\""
   ]
  },
  {
   "cell_type": "code",
   "execution_count": 29,
   "metadata": {},
   "outputs": [],
   "source": [
    "n = 10\n",
    "m = 10\n",
    "p = 2\n",
    "shape_1 = (n, p)\n",
    "shape_2 = (m, p)"
   ]
  },
  {
   "cell_type": "code",
   "execution_count": 30,
   "metadata": {},
   "outputs": [],
   "source": [
    "def combine_then_label(x1, x2):\n",
    "    return_X = np.concatenate([x1, x2])\n",
    "\n",
    "    n1 = x1.shape[0]\n",
    "    n2 = x2.shape[0]\n",
    "\n",
    "    return_Y = np.repeat([1, 2], [n1, n2])\n",
    "\n",
    "    return return_X, return_Y"
   ]
  },
  {
   "cell_type": "code",
   "execution_count": 36,
   "metadata": {},
   "outputs": [],
   "source": [
    "def run_FR_simtest(x,y):\n",
    "    x,y = combine_then_label(x, y)\n",
    "    method = FriedmanRafsky()\n",
    "    test_rslt = method.test(x,y)\n",
    "    statistic_rslt = method.statistic(x,y)\n",
    "    print(test_rslt)\n",
    "    print(statistic_rslt)\n"
   ]
  },
  {
   "cell_type": "code",
   "execution_count": 37,
   "metadata": {},
   "outputs": [
    {
     "name": "stdout",
     "output_type": "stream",
     "text": [
      "IndependenceTestOutput(stat=5.767937980472718, pvalue=0.000999000999000999)\n",
      "20\n"
     ]
    }
   ],
   "source": [
    "ones = np.ones(shape_1) \n",
    "zeros = np.zeros(shape_1)\n",
    "run_FR_simtest(ones, zeros)"
   ]
  },
  {
   "cell_type": "code",
   "execution_count": 59,
   "metadata": {},
   "outputs": [
    {
     "name": "stdout",
     "output_type": "stream",
     "text": [
      "IndependenceTestOutput(stat=nan, pvalue=1.0)\n",
      "1\n"
     ]
    },
    {
     "name": "stderr",
     "output_type": "stream",
     "text": [
      "/home/lexa/.virtualenvs/hyppo/lib/python3.10/site-packages/hyppo/independence/friedman_rafsky.py:142: RuntimeWarning: invalid value encountered in double_scalars\n",
      "  stat = (stat - np.mean(null_dist)) / np.std(null_dist)\n"
     ]
    }
   ],
   "source": [
    "ones = np.zeros(shape_1) \n",
    "zeros = np.zeros(shape_1)\n",
    "run_FR_simtest(ones, zeros)"
   ]
  },
  {
   "cell_type": "code",
   "execution_count": 58,
   "metadata": {},
   "outputs": [
    {
     "name": "stdout",
     "output_type": "stream",
     "text": [
      "IndependenceTestOutput(stat=nan, pvalue=1.0)\n",
      "1\n"
     ]
    },
    {
     "name": "stderr",
     "output_type": "stream",
     "text": [
      "/home/lexa/.virtualenvs/hyppo/lib/python3.10/site-packages/hyppo/independence/friedman_rafsky.py:142: RuntimeWarning: invalid value encountered in double_scalars\n",
      "  stat = (stat - np.mean(null_dist)) / np.std(null_dist)\n"
     ]
    }
   ],
   "source": [
    "x1 = np.ones(shape_1)\n",
    "x2 = np.ones(shape_1)\n",
    "run_FR_simtest(x1, x2)"
   ]
  },
  {
   "cell_type": "code",
   "execution_count": 40,
   "metadata": {},
   "outputs": [
    {
     "name": "stdout",
     "output_type": "stream",
     "text": [
      "IndependenceTestOutput(stat=-4.141675759519696, pvalue=1.0)\n",
      "2\n"
     ]
    }
   ],
   "source": [
    "rng = default_rng(1)\n",
    "x1 = rng.integers(1000, size=shape_1) # default dtype is np.int64\n",
    "# multivariate normal\n",
    "mean = [0,0]\n",
    "cov = [[1, 0],[0, 100]]\n",
    "\n",
    "x2 = rng.multivariate_normal(mean, cov, shape_1[0])\n",
    "run_FR_simtest(x1, x2)"
   ]
  },
  {
   "cell_type": "code",
   "execution_count": 41,
   "metadata": {},
   "outputs": [
    {
     "name": "stdout",
     "output_type": "stream",
     "text": [
      "IndependenceTestOutput(stat=-0.43843086703133183, pvalue=0.7442557442557443)\n",
      "10\n"
     ]
    }
   ],
   "source": [
    "rng = default_rng(1)\n",
    "shape = (10,2)\n",
    "# multivariate normal\n",
    "mean = [0,0]\n",
    "cov = [[1, 0],[0, 100]]\n",
    "\n",
    "x1 = rng.multivariate_normal(mean, cov, 10)\n",
    "x2 = rng.multivariate_normal(mean, cov, 10)\n",
    "run_FR_simtest(x1, x2)"
   ]
  },
  {
   "cell_type": "code",
   "execution_count": 52,
   "metadata": {},
   "outputs": [
    {
     "name": "stdout",
     "output_type": "stream",
     "text": [
      "IndependenceTestOutput(stat=-0.9543623610936381, pvalue=0.8821178821178821)\n",
      "9\n"
     ]
    }
   ],
   "source": [
    "rng = default_rng()\n",
    "# multivariate normal\n",
    "mean = [0,0]\n",
    "cov = [[1, 0],[0, 100]]\n",
    "\n",
    "x1 = rng.multivariate_normal(mean, cov, 10)\n",
    "x2 = rng.multivariate_normal(mean, cov, 10)\n",
    "run_FR_simtest(x1, x2)"
   ]
  },
  {
   "cell_type": "code",
   "execution_count": 55,
   "metadata": {},
   "outputs": [
    {
     "name": "stdout",
     "output_type": "stream",
     "text": [
      "IndependenceTestOutput(stat=-4.264552068811923, pvalue=1.0)\n",
      "2\n"
     ]
    }
   ],
   "source": [
    "rng = default_rng()\n",
    "\n",
    "x1 = rng.uniform(200, 1000, shape)\n",
    "x2 = rng.integers(0, 100, size=shape_1)\n",
    "\n",
    "run_FR_simtest(x1, x2)"
   ]
  },
  {
   "cell_type": "code",
   "execution_count": 57,
   "metadata": {},
   "outputs": [
    {
     "name": "stdout",
     "output_type": "stream",
     "text": [
      "IndependenceTestOutput(stat=-4.32173482766165, pvalue=1.0)\n",
      "2\n"
     ]
    }
   ],
   "source": [
    "rng = default_rng()\n",
    "\n",
    "x1 = rng.uniform(200, 1000, size=shape_1)\n",
    "x2 = rng.uniform(0, 100, size=shape_1)\n",
    "\n",
    "run_FR_simtest(x1, x2)"
   ]
  },
  {
   "cell_type": "code",
   "execution_count": 10,
   "metadata": {},
   "outputs": [],
   "source": [
    "df = pd.DataFrame(columns=[\n",
    "    \"independence excepted\",\n",
    "    \"`test()` pvalue\",\n",
    "    \"`statistic()` statistic\",\n",
    "    \"dataset 1 (type, parameters,seed)\",\n",
    "    \"dataset 2 (type, parameters,seed)\"\n",
    "])"
   ]
  }
 ],
 "metadata": {
  "kernelspec": {
   "display_name": "Python 3.10.5 ('hyppo')",
   "language": "python",
   "name": "python3"
  },
  "language_info": {
   "codemirror_mode": {
    "name": "ipython",
    "version": 3
   },
   "file_extension": ".py",
   "mimetype": "text/x-python",
   "name": "python",
   "nbconvert_exporter": "python",
   "pygments_lexer": "ipython3",
   "version": "3.10.5"
  },
  "orig_nbformat": 4,
  "vscode": {
   "interpreter": {
    "hash": "63bbcf1d34cb36044fcd528dafbf1c36b480889c0537dfc828d5c44f0ab8faaf"
   }
  }
 },
 "nbformat": 4,
 "nbformat_minor": 2
}
