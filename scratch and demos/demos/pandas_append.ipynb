{
 "cells": [
  {
   "cell_type": "code",
   "execution_count": 3,
   "metadata": {},
   "outputs": [],
   "source": [
    "import numpy as np\n",
    "from numpy.random import Generator, PCG64\n",
    "from hyppo.independence import FriedmanRafsky\n",
    "\n",
    "import pandas as pd\n",
    "\n",
    "seed = 402"
   ]
  },
  {
   "cell_type": "markdown",
   "metadata": {},
   "source": [
    "Note that \n",
    "1. append is decprecated\n",
    "2. adding rows one by one is seen as inefficient and NOT how pandas is intended to be used (i.e. it is not intended for collecting data)"
   ]
  },
  {
   "cell_type": "code",
   "execution_count": 2,
   "metadata": {},
   "outputs": [],
   "source": [
    "test_rslt = (20, 0.005)\n",
    "shape = (10,2)"
   ]
  },
  {
   "cell_type": "code",
   "execution_count": null,
   "metadata": {},
   "outputs": [],
   "source": [
    "row1 = pd.Series({\n",
    "    \"independence excepted\": True,\n",
    "    \"`test()` pvalue\": test_rslt[0],\n",
    "    \"`statistic()` statistic\": test_rslt[1],\n",
    "    \"dataset 1 (type, parameters,seed)\": 12342,\n",
    "    \"dataset 2 (type, parameters,seed)\": (\"ones\", {shape:(1,2),max:1000})\n",
    "})\n",
    "row1 = pd.Series({\n",
    "    \"independence excepted\": True,\n",
    "    \"`test()` pvalue\": test_rslt[0],\n",
    "    \"`statistic()` statistic\": test_rslt[1],\n",
    "    \"dataset 1 (type, parameters,seed)\": 12342,\n",
    "    \"dataset 2 (type, parameters,seed)\": (\"ones\", {\"shape\":(1,2),\"max\":1000})\n",
    "})\n",
    "\n",
    "row1.iloc[0]\n",
    "row2 = pd.Series({\n",
    "    \"independence excepted\": True,\n",
    "    \"`test()` pvalue\": 999999,\n",
    "    \"`statistic()` statistic\": 101,\n",
    "    \"dataset 1 (type, parameters,seed)\": \"blerg\",\n",
    "    \"dataset 2 (type, parameters,seed)\": (\"ones\", {\"shape\":(1,2),\"max\":1000})\n",
    "})\n",
    "df = pd.concat([row1.to_frame().T, row2.to_frame().T], axis=0, ignore_index=True)\n",
    "df"
   ]
  }
 ],
 "metadata": {
  "kernelspec": {
   "display_name": "Python 3.10.5 ('hyppo')",
   "language": "python",
   "name": "python3"
  },
  "language_info": {
   "codemirror_mode": {
    "name": "ipython",
    "version": 3
   },
   "file_extension": ".py",
   "mimetype": "text/x-python",
   "name": "python",
   "nbconvert_exporter": "python",
   "pygments_lexer": "ipython3",
   "version": "3.10.5"
  },
  "orig_nbformat": 4,
  "vscode": {
   "interpreter": {
    "hash": "63bbcf1d34cb36044fcd528dafbf1c36b480889c0537dfc828d5c44f0ab8faaf"
   }
  }
 },
 "nbformat": 4,
 "nbformat_minor": 2
}
